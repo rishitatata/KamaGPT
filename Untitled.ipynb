{
  "cells": [
    {
      "cell_type": "markdown",
      "metadata": {
        "id": "view-in-github",
        "colab_type": "text"
      },
      "source": [
        "<a href=\"https://colab.research.google.com/github/rishitatata/KamaGPT/blob/main/Untitled.ipynb\" target=\"_parent\"><img src=\"https://colab.research.google.com/assets/colab-badge.svg\" alt=\"Open In Colab\"/></a>"
      ]
    },
    {
      "cell_type": "code",
      "execution_count": null,
      "metadata": {
        "id": "Zvr-QNz2d0AT"
      },
      "outputs": [],
      "source": [
        "import pandas as pd\n",
        "from sklearn import preprocessing, tree\n",
        "from sklearn.model_selection import train_test_split\n",
        "from sklearn.metrics import accuracy_score"
      ]
    },
    {
      "cell_type": "code",
      "execution_count": null,
      "metadata": {
        "id": "YbMRYDa9d0fm"
      },
      "outputs": [],
      "source": [
        "# Load the data\n",
        "df = pd.read_csv('/content/data.csv')"
      ]
    },
    {
      "cell_type": "code",
      "execution_count": null,
      "metadata": {
        "id": "V2d5e5IPQaWo"
      },
      "outputs": [],
      "source": [
        "import matplotlib.pyplot as plt\n",
        "\n",
        "# Dummy data to represent your columns (replace with your actual data)\n",
        "import numpy as np\n",
        "x = np.arange(0, 1000)\n",
        "y1 = np.sin(0.01 * x) * 100 + 80  # Engine_coolant_temperature\n",
        "y2 = np.cos(0.01 * x) * 3000       # Engine_Idel_Target_Speed\n",
        "y3 = np.sin(0.02 * x) * 3000       # Engine_speed\n",
        "y4 = np.random.rand(1000) * 60     # Engine_torque\n",
        "y5 = np.random.rand(1000) * 100    # Fuel_consumption\n",
        "y6 = np.sin(0.03 * x) * 3000       # Torque_converter_speed\n",
        "\n",
        "# Create subplots\n",
        "fig, axs = plt.subplots(6, 1, figsize=(10, 15), sharex=True)\n",
        "\n",
        "# Plotting each variable\n",
        "axs[0].plot(x, y1, label='B')\n",
        "axs[0].set_title('Engine_coolant_temperature')\n",
        "\n",
        "axs[1].plot(x, y2, label='B')\n",
        "axs[1].set_title('Engine_Idel_Target_Speed')\n",
        "\n",
        "axs[2].plot(x, y3, label='B')\n",
        "axs[2].set_title('Engine_speed')\n",
        "\n",
        "axs[3].plot(x, y4, label='B')\n",
        "axs[3].set_title('Engine_torque')\n",
        "\n",
        "axs[4].plot(x, y5, label='B')\n",
        "axs[4].set_title('Fuel_consumption')\n",
        "\n",
        "axs[5].plot(x, y6, label='B')\n",
        "axs[5].set_title('Torque_converter_speed')\n",
        "\n",
        "# Adjusting the layout\n",
        "plt.tight_layout()\n",
        "plt.show()"
      ]
    },
    {
      "cell_type": "code",
      "execution_count": null,
      "metadata": {
        "id": "UvKE260bd2K5"
      },
      "outputs": [],
      "source": [
        "# Replace class labels\n",
        "replace_y_numbers = {k:v for v,k in enumerate(sorted(set(df.iloc[:, 52])))}\n",
        "df.iloc[:, 52] = df.iloc[:, 52].replace(replace_y_numbers)"
      ]
    },
    {
      "cell_type": "code",
      "execution_count": null,
      "metadata": {
        "id": "NxkLgDkud4BW"
      },
      "outputs": [],
      "source": [
        "# Split data into features and target\n",
        "X = df.drop(columns=['Class', 'Time(s)', 'PathOrder'])\n",
        "y = df.iloc[:, 52]"
      ]
    },
    {
      "cell_type": "code",
      "execution_count": null,
      "metadata": {
        "id": "R0TjTOo-d5vr"
      },
      "outputs": [],
      "source": [
        "# Standardize features\n",
        "scaler = preprocessing.StandardScaler()\n",
        "standarized_X = scaler.fit_transform(X)"
      ]
    },
    {
      "cell_type": "code",
      "execution_count": null,
      "metadata": {
        "id": "gHCsFFzud746"
      },
      "outputs": [],
      "source": [
        "# Split data into training and testing sets\n",
        "X_train, X_test, y_train, y_test = train_test_split(standarized_X, y, random_state=420)"
      ]
    },
    {
      "cell_type": "code",
      "execution_count": null,
      "metadata": {
        "colab": {
          "base_uri": "https://localhost:8080/"
        },
        "id": "nS_8Q87Hd90b",
        "outputId": "d5663548-ad41-445f-a4dc-584a970aa17e"
      },
      "outputs": [
        {
          "name": "stdout",
          "output_type": "stream",
          "text": [
            "{0, 1, 2, 3, 4, 5, 6, 7, 8, 9}\n"
          ]
        }
      ],
      "source": [
        "print(set(y_train))"
      ]
    },
    {
      "cell_type": "code",
      "execution_count": null,
      "metadata": {
        "id": "6yTMkx1bd_ps"
      },
      "outputs": [],
      "source": [
        "y_train = pd.Categorical(y_train).codes"
      ]
    },
    {
      "cell_type": "code",
      "execution_count": null,
      "metadata": {
        "colab": {
          "base_uri": "https://localhost:8080/"
        },
        "id": "UiigyDMEeNMh",
        "outputId": "63c04ca9-747d-4300-abce-d3551357cfb0"
      },
      "outputs": [
        {
          "name": "stdout",
          "output_type": "stream",
          "text": [
            "int8\n"
          ]
        }
      ],
      "source": [
        "print(y_train.dtype)"
      ]
    },
    {
      "cell_type": "code",
      "execution_count": null,
      "metadata": {
        "colab": {
          "base_uri": "https://localhost:8080/"
        },
        "id": "cbTFToFgeZBz",
        "outputId": "5861f84f-c24b-405f-d34b-7605f2c87a24"
      },
      "outputs": [
        {
          "name": "stdout",
          "output_type": "stream",
          "text": [
            "object\n"
          ]
        }
      ],
      "source": [
        "print(y_test.dtype)"
      ]
    },
    {
      "cell_type": "code",
      "execution_count": null,
      "metadata": {
        "id": "QpKGavINehpn"
      },
      "outputs": [],
      "source": [
        "y_test = pd.to_numeric(y_test)"
      ]
    },
    {
      "cell_type": "code",
      "execution_count": null,
      "metadata": {
        "colab": {
          "base_uri": "https://localhost:8080/"
        },
        "id": "sRm02koL7asQ",
        "outputId": "99f7aa93-8ab3-4fea-a6dc-86f291c9bb83"
      },
      "outputs": [
        {
          "name": "stdout",
          "output_type": "stream",
          "text": [
            "Decision Tree Accuracy: 0.9748675566857385\n",
            "Decision Tree F1 Score: 0.9744258175018679\n"
          ]
        }
      ],
      "source": [
        "from sklearn.tree import DecisionTreeClassifier\n",
        "from sklearn.metrics import accuracy_score, f1_score\n",
        "\n",
        "# Train Decision Tree Classifier\n",
        "dt_clf = DecisionTreeClassifier(random_state=420)\n",
        "dt_clf.fit(X_train, y_train)\n",
        "\n",
        "# Predict on test set\n",
        "y_pred_dt = dt_clf.predict(X_test)\n",
        "\n",
        "# Evaluate model\n",
        "accuracy = accuracy_score(y_test, y_pred_dt)\n",
        "f1 = f1_score(y_test, y_pred_dt, average='macro')\n",
        "\n",
        "print(\"Decision Tree Accuracy:\", accuracy)\n",
        "print(\"Decision Tree F1 Score:\", f1)"
      ]
    },
    {
      "cell_type": "code",
      "execution_count": null,
      "metadata": {
        "id": "PFZBPRZ4Dwcq"
      },
      "outputs": [],
      "source": [
        "from sklearn.ensemble import RandomForestClassifier, GradientBoostingClassifier, AdaBoostClassifier\n",
        "from sklearn.neighbors import KNeighborsClassifier\n",
        "from sklearn.neural_network import MLPClassifier\n",
        "from sklearn.svm import LinearSVC\n",
        "from sklearn.linear_model import LogisticRegression\n",
        "from sklearn.naive_bayes import GaussianNB"
      ]
    },
    {
      "cell_type": "code",
      "execution_count": null,
      "metadata": {
        "colab": {
          "base_uri": "https://localhost:8080/"
        },
        "id": "q7LWU2Chenqj",
        "outputId": "84675bb3-9492-44e3-ed79-beef88a57984"
      },
      "outputs": [
        {
          "name": "stdout",
          "output_type": "stream",
          "text": [
            "Random Forest Accuracy: 0.9821572367026913\n",
            "Random Forest F1 Score: 0.9816548482452161\n"
          ]
        }
      ],
      "source": [
        "# Train Random Forest Classifier\n",
        "rf_clf = RandomForestClassifier(random_state=420)\n",
        "rf_clf.fit(X_train, y_train)\n",
        "\n",
        "# Predict on test set\n",
        "y_pred_rf = rf_clf.predict(X_test)\n",
        "\n",
        "# Evaluate model\n",
        "accuracy = accuracy_score(y_test, y_pred_rf)\n",
        "f1 = f1_score(y_test, y_pred_rf, average='macro')\n",
        "\n",
        "print(\"Random Forest Accuracy:\", accuracy)\n",
        "print(\"Random Forest F1 Score:\", f1)"
      ]
    },
    {
      "cell_type": "code",
      "execution_count": null,
      "metadata": {
        "colab": {
          "base_uri": "https://localhost:8080/"
        },
        "id": "M7LUNoJ7etYG",
        "outputId": "1af50cd7-8a15-43c7-a575-a5184dca2b2c"
      },
      "outputs": [
        {
          "name": "stdout",
          "output_type": "stream",
          "text": [
            "KNN Classifier Accuracy: 0.7443949989404535\n"
          ]
        }
      ],
      "source": [
        "# KNN Classifier\n",
        "model = KNeighborsClassifier()\n",
        "model.fit(X_train, y_train)\n",
        "predictions = model.predict(X_test)\n",
        "knn_accuracy = accuracy_score(y_test, predictions)\n",
        "print(\"KNN Classifier Accuracy:\", knn_accuracy)"
      ]
    },
    {
      "cell_type": "code",
      "execution_count": null,
      "metadata": {
        "colab": {
          "base_uri": "https://localhost:8080/"
        },
        "id": "2ZhUepfbevcs",
        "outputId": "4d362ac8-bf1c-4168-89c7-45b650fdb48d"
      },
      "outputs": [
        {
          "name": "stdout",
          "output_type": "stream",
          "text": [
            "MLP Classifier Accuracy: 0.9334180970544607\n"
          ]
        },
        {
          "name": "stderr",
          "output_type": "stream",
          "text": [
            "/usr/local/lib/python3.10/dist-packages/sklearn/neural_network/_multilayer_perceptron.py:691: ConvergenceWarning: Stochastic Optimizer: Maximum iterations (200) reached and the optimization hasn't converged yet.\n",
            "  warnings.warn(\n"
          ]
        }
      ],
      "source": [
        "# MLP Classifier\n",
        "model = MLPClassifier()\n",
        "model.fit(X_train, y_train)\n",
        "predictions = model.predict(X_test)\n",
        "mlp_accuracy = accuracy_score(y_test, predictions)\n",
        "print(\"MLP Classifier Accuracy:\", mlp_accuracy)"
      ]
    },
    {
      "cell_type": "code",
      "execution_count": null,
      "metadata": {
        "colab": {
          "background_save": true,
          "base_uri": "https://localhost:8080/"
        },
        "id": "vjbSMxTPexYt",
        "outputId": "a706fc46-80f1-4aa8-975e-0da51bb09c14"
      },
      "outputs": [
        {
          "name": "stdout",
          "output_type": "stream",
          "text": [
            "Gradient Boosting Classifier Accuracy: 0.954100445009536\n"
          ]
        }
      ],
      "source": [
        "# Gradient Boosting Classifier\n",
        "model = GradientBoostingClassifier()\n",
        "model.fit(X_train, y_train)\n",
        "predictions = model.predict(X_test)\n",
        "gb_accuracy = accuracy_score(y_test, predictions)\n",
        "print(\"Gradient Boosting Classifier Accuracy:\", gb_accuracy)"
      ]
    },
    {
      "cell_type": "code",
      "execution_count": 32,
      "metadata": {
        "colab": {
          "base_uri": "https://localhost:8080/"
        },
        "id": "PHfs2M9gezHJ",
        "outputId": "23dba3c5-6cff-4c92-d610-ad10cc3a5b39"
      },
      "outputs": [
        {
          "metadata": {
            "tags": null
          },
          "name": "stderr",
          "output_type": "stream",
          "text": [
            "/usr/local/lib/python3.10/dist-packages/sklearn/svm/_classes.py:32: FutureWarning: The default value of `dual` will change from `True` to `'auto'` in 1.5. Set the value of `dual` explicitly to suppress the warning.\n",
            "  warnings.warn(\n"
          ]
        },
        {
          "metadata": {
            "tags": null
          },
          "name": "stdout",
          "output_type": "stream",
          "text": [
            "Linear SVC Accuracy: 0.5573214664123755\n"
          ]
        },
        {
          "metadata": {
            "tags": null
          },
          "name": "stderr",
          "output_type": "stream",
          "text": [
            "/usr/local/lib/python3.10/dist-packages/sklearn/svm/_base.py:1250: ConvergenceWarning: Liblinear failed to converge, increase the number of iterations.\n",
            "  warnings.warn(\n"
          ]
        }
      ],
      "source": [
        "# Linear SVC\n",
        "model = LinearSVC()\n",
        "model.fit(X_train, y_train)\n",
        "predictions = model.predict(X_test)\n",
        "svc_accuracy = accuracy_score(y_test, predictions)\n",
        "print(\"Linear SVC Accuracy:\", svc_accuracy)"
      ]
    },
    {
      "cell_type": "code",
      "execution_count": 33,
      "metadata": {
        "id": "LKVizlCbe06V",
        "colab": {
          "base_uri": "https://localhost:8080/"
        },
        "outputId": "2ee0b101-5188-4891-e0f4-439c9f26f832"
      },
      "outputs": [
        {
          "metadata": {
            "tags": null
          },
          "name": "stdout",
          "output_type": "stream",
          "text": [
            "Logistic Regression Accuracy: 0.5848696757787667\n"
          ]
        },
        {
          "metadata": {
            "tags": null
          },
          "name": "stderr",
          "output_type": "stream",
          "text": [
            "/usr/local/lib/python3.10/dist-packages/sklearn/linear_model/_logistic.py:460: ConvergenceWarning: lbfgs failed to converge (status=1):\n",
            "STOP: TOTAL NO. of ITERATIONS REACHED LIMIT.\n",
            "\n",
            "Increase the number of iterations (max_iter) or scale the data as shown in:\n",
            "    https://scikit-learn.org/stable/modules/preprocessing.html\n",
            "Please also refer to the documentation for alternative solver options:\n",
            "    https://scikit-learn.org/stable/modules/linear_model.html#logistic-regression\n",
            "  n_iter_i = _check_optimize_result(\n"
          ]
        }
      ],
      "source": [
        "# Logistic Regression\n",
        "model = LogisticRegression()\n",
        "model.fit(X_train, y_train)\n",
        "predictions = model.predict(X_test)\n",
        "lr_accuracy = accuracy_score(y_test, predictions)\n",
        "print(\"Logistic Regression Accuracy:\", lr_accuracy)"
      ]
    },
    {
      "cell_type": "code",
      "execution_count": 34,
      "metadata": {
        "id": "SsV1oaoWe3Hc",
        "colab": {
          "base_uri": "https://localhost:8080/"
        },
        "outputId": "1b0a2cf3-4e7d-4199-c0ca-ad642b6562b7"
      },
      "outputs": [
        {
          "output_type": "stream",
          "name": "stdout",
          "text": [
            "AdaBoost Classifier Accuracy: 0.38953168044077136\n",
            "AdaBoost Classifier Accuracy: 0.38953168044077136\n"
          ]
        }
      ],
      "source": [
        "# AdaBoost Classifier\n",
        "model = AdaBoostClassifier()\n",
        "model.fit(X_train, y_train)\n",
        "predictions = model.predict(X_test)\n",
        "adb_accuracy = accuracy_score(y_test, predictions)\n",
        "print(\"AdaBoost Classifier Accuracy:\", adb_accuracy)"
      ]
    },
    {
      "cell_type": "code",
      "execution_count": null,
      "metadata": {
        "id": "UjMQap47e4y6"
      },
      "outputs": [],
      "source": [
        "# Naive Bayes\n",
        "model = GaussianNB()\n",
        "model.fit(X_train, y_train)\n",
        "predictions = model.predict(X_test)\n",
        "nb_accuracy = accuracy_score(y_test, predictions)\n",
        "print(\"Naive Bayes Accuracy:\", nb_accuracy)"
      ]
    },
    {
      "cell_type": "code",
      "execution_count": null,
      "metadata": {
        "id": "mTOzlhppey8s",
        "colab": {
          "base_uri": "https://localhost:8080/"
        },
        "outputId": "0def742e-9137-4379-f405-9323f9cfd0f8"
      },
      "outputs": [
        {
          "output_type": "stream",
          "name": "stderr",
          "text": [
            "/usr/local/lib/python3.10/dist-packages/keras/src/layers/convolutional/base_conv.py:107: UserWarning: Do not pass an `input_shape`/`input_dim` argument to a layer. When using Sequential models, prefer using an `Input(shape)` object as the first layer in the model instead.\n",
            "  super().__init__(activity_regularizer=activity_regularizer, **kwargs)\n",
            "/usr/local/lib/python3.10/dist-packages/keras/src/layers/convolutional/base_conv.py:107: UserWarning: Do not pass an `input_shape`/`input_dim` argument to a layer. When using Sequential models, prefer using an `Input(shape)` object as the first layer in the model instead.\n",
            "  super().__init__(activity_regularizer=activity_regularizer, **kwargs)\n"
          ]
        },
        {
          "output_type": "stream",
          "name": "stdout",
          "text": [
            "Epoch 1/50\n",
            "Epoch 1/50\n",
            "\u001b[1m2213/2213\u001b[0m \u001b[32m━━━━━━━━━━━━━━━━━━━━\u001b[0m\u001b[37m\u001b[0m \u001b[1m8s\u001b[0m 2ms/step - accuracy: 0.5554 - loss: 1.2270\n",
            "\u001b[1m2213/2213\u001b[0m \u001b[32m━━━━━━━━━━━━━━━━━━━━\u001b[0m\u001b[37m\u001b[0m \u001b[1m8s\u001b[0m 2ms/step - accuracy: 0.5554 - loss: 1.2270\n",
            "Epoch 2/50\n",
            "Epoch 2/50\n",
            "\u001b[1m2213/2213\u001b[0m \u001b[32m━━━━━━━━━━━━━━━━━━━━\u001b[0m\u001b[37m\u001b[0m \u001b[1m5s\u001b[0m 2ms/step - accuracy: 0.7591 - loss: 0.6411\n",
            "\u001b[1m2213/2213\u001b[0m \u001b[32m━━━━━━━━━━━━━━━━━━━━\u001b[0m\u001b[37m\u001b[0m \u001b[1m5s\u001b[0m 2ms/step - accuracy: 0.7591 - loss: 0.6411\n",
            "Epoch 3/50\n",
            "Epoch 3/50\n",
            "\u001b[1m2213/2213\u001b[0m \u001b[32m━━━━━━━━━━━━━━━━━━━━\u001b[0m\u001b[37m\u001b[0m \u001b[1m5s\u001b[0m 2ms/step - accuracy: 0.8072 - loss: 0.5279\n",
            "\u001b[1m2213/2213\u001b[0m \u001b[32m━━━━━━━━━━━━━━━━━━━━\u001b[0m\u001b[37m\u001b[0m \u001b[1m5s\u001b[0m 2ms/step - accuracy: 0.8072 - loss: 0.5279\n",
            "Epoch 4/50\n",
            "Epoch 4/50\n",
            "\u001b[1m2213/2213\u001b[0m \u001b[32m━━━━━━━━━━━━━━━━━━━━\u001b[0m\u001b[37m\u001b[0m \u001b[1m5s\u001b[0m 2ms/step - accuracy: 0.8319 - loss: 0.4527\n",
            "\u001b[1m2213/2213\u001b[0m \u001b[32m━━━━━━━━━━━━━━━━━━━━\u001b[0m\u001b[37m\u001b[0m \u001b[1m5s\u001b[0m 2ms/step - accuracy: 0.8319 - loss: 0.4527\n",
            "Epoch 5/50\n",
            "Epoch 5/50\n",
            "\u001b[1m2213/2213\u001b[0m \u001b[32m━━━━━━━━━━━━━━━━━━━━\u001b[0m\u001b[37m\u001b[0m \u001b[1m5s\u001b[0m 2ms/step - accuracy: 0.8496 - loss: 0.4202\n",
            "\u001b[1m2213/2213\u001b[0m \u001b[32m━━━━━━━━━━━━━━━━━━━━\u001b[0m\u001b[37m\u001b[0m \u001b[1m5s\u001b[0m 2ms/step - accuracy: 0.8496 - loss: 0.4202\n",
            "Epoch 6/50\n",
            "Epoch 6/50\n",
            "\u001b[1m2213/2213\u001b[0m \u001b[32m━━━━━━━━━━━━━━━━━━━━\u001b[0m\u001b[37m\u001b[0m \u001b[1m4s\u001b[0m 2ms/step - accuracy: 0.8642 - loss: 0.3697\n",
            "\u001b[1m2213/2213\u001b[0m \u001b[32m━━━━━━━━━━━━━━━━━━━━\u001b[0m\u001b[37m\u001b[0m \u001b[1m4s\u001b[0m 2ms/step - accuracy: 0.8642 - loss: 0.3697\n",
            "Epoch 7/50\n",
            "Epoch 7/50\n",
            "\u001b[1m2213/2213\u001b[0m \u001b[32m━━━━━━━━━━━━━━━━━━━━\u001b[0m\u001b[37m\u001b[0m \u001b[1m5s\u001b[0m 2ms/step - accuracy: 0.8751 - loss: 0.3389\n",
            "\u001b[1m2213/2213\u001b[0m \u001b[32m━━━━━━━━━━━━━━━━━━━━\u001b[0m\u001b[37m\u001b[0m \u001b[1m5s\u001b[0m 2ms/step - accuracy: 0.8751 - loss: 0.3389\n",
            "Epoch 8/50\n",
            "Epoch 8/50\n",
            "\u001b[1m2213/2213\u001b[0m \u001b[32m━━━━━━━━━━━━━━━━━━━━\u001b[0m\u001b[37m\u001b[0m \u001b[1m5s\u001b[0m 2ms/step - accuracy: 0.8845 - loss: 0.3188\n",
            "\u001b[1m2213/2213\u001b[0m \u001b[32m━━━━━━━━━━━━━━━━━━━━\u001b[0m\u001b[37m\u001b[0m \u001b[1m5s\u001b[0m 2ms/step - accuracy: 0.8845 - loss: 0.3188\n",
            "Epoch 9/50\n",
            "Epoch 9/50\n",
            "\u001b[1m2213/2213\u001b[0m \u001b[32m━━━━━━━━━━━━━━━━━━━━\u001b[0m\u001b[37m\u001b[0m \u001b[1m4s\u001b[0m 2ms/step - accuracy: 0.8932 - loss: 0.2942\n",
            "\u001b[1m2213/2213\u001b[0m \u001b[32m━━━━━━━━━━━━━━━━━━━━\u001b[0m\u001b[37m\u001b[0m \u001b[1m4s\u001b[0m 2ms/step - accuracy: 0.8932 - loss: 0.2942\n",
            "Epoch 10/50\n",
            "Epoch 10/50\n",
            "\u001b[1m2213/2213\u001b[0m \u001b[32m━━━━━━━━━━━━━━━━━━━━\u001b[0m\u001b[37m\u001b[0m \u001b[1m5s\u001b[0m 2ms/step - accuracy: 0.8980 - loss: 0.2814\n",
            "\u001b[1m2213/2213\u001b[0m \u001b[32m━━━━━━━━━━━━━━━━━━━━\u001b[0m\u001b[37m\u001b[0m \u001b[1m5s\u001b[0m 2ms/step - accuracy: 0.8980 - loss: 0.2814\n",
            "Epoch 11/50\n",
            "Epoch 11/50\n",
            "\u001b[1m2213/2213\u001b[0m \u001b[32m━━━━━━━━━━━━━━━━━━━━\u001b[0m\u001b[37m\u001b[0m \u001b[1m5s\u001b[0m 2ms/step - accuracy: 0.9053 - loss: 0.2615\n",
            "\u001b[1m2213/2213\u001b[0m \u001b[32m━━━━━━━━━━━━━━━━━━━━\u001b[0m\u001b[37m\u001b[0m \u001b[1m5s\u001b[0m 2ms/step - accuracy: 0.9053 - loss: 0.2615\n",
            "Epoch 12/50\n",
            "Epoch 12/50\n",
            "\u001b[1m2213/2213\u001b[0m \u001b[32m━━━━━━━━━━━━━━━━━━━━\u001b[0m\u001b[37m\u001b[0m \u001b[1m4s\u001b[0m 2ms/step - accuracy: 0.9068 - loss: 0.2621\n",
            "\u001b[1m2213/2213\u001b[0m \u001b[32m━━━━━━━━━━━━━━━━━━━━\u001b[0m\u001b[37m\u001b[0m \u001b[1m4s\u001b[0m 2ms/step - accuracy: 0.9068 - loss: 0.2621\n",
            "Epoch 13/50\n",
            "Epoch 13/50\n",
            "\u001b[1m2213/2213\u001b[0m \u001b[32m━━━━━━━━━━━━━━━━━━━━\u001b[0m\u001b[37m\u001b[0m \u001b[1m6s\u001b[0m 2ms/step - accuracy: 0.9091 - loss: 0.2443\n",
            "\u001b[1m2213/2213\u001b[0m \u001b[32m━━━━━━━━━━━━━━━━━━━━\u001b[0m\u001b[37m\u001b[0m \u001b[1m6s\u001b[0m 2ms/step - accuracy: 0.9091 - loss: 0.2443\n",
            "Epoch 14/50\n",
            "Epoch 14/50\n",
            "\u001b[1m2213/2213\u001b[0m \u001b[32m━━━━━━━━━━━━━━━━━━━━\u001b[0m\u001b[37m\u001b[0m \u001b[1m4s\u001b[0m 2ms/step - accuracy: 0.9126 - loss: 0.2367\n",
            "\u001b[1m2213/2213\u001b[0m \u001b[32m━━━━━━━━━━━━━━━━━━━━\u001b[0m\u001b[37m\u001b[0m \u001b[1m4s\u001b[0m 2ms/step - accuracy: 0.9126 - loss: 0.2367\n",
            "Epoch 15/50\n",
            "Epoch 15/50\n",
            "\u001b[1m2213/2213\u001b[0m \u001b[32m━━━━━━━━━━━━━━━━━━━━\u001b[0m\u001b[37m\u001b[0m \u001b[1m5s\u001b[0m 2ms/step - accuracy: 0.9159 - loss: 0.2281\n",
            "\u001b[1m2213/2213\u001b[0m \u001b[32m━━━━━━━━━━━━━━━━━━━━\u001b[0m\u001b[37m\u001b[0m \u001b[1m5s\u001b[0m 2ms/step - accuracy: 0.9159 - loss: 0.2281\n",
            "Epoch 16/50\n",
            "Epoch 16/50\n",
            "\u001b[1m2213/2213\u001b[0m \u001b[32m━━━━━━━━━━━━━━━━━━━━\u001b[0m\u001b[37m\u001b[0m \u001b[1m5s\u001b[0m 2ms/step - accuracy: 0.9188 - loss: 0.2201\n",
            "\u001b[1m2213/2213\u001b[0m \u001b[32m━━━━━━━━━━━━━━━━━━━━\u001b[0m\u001b[37m\u001b[0m \u001b[1m5s\u001b[0m 2ms/step - accuracy: 0.9188 - loss: 0.2201\n",
            "Epoch 17/50\n",
            "Epoch 17/50\n",
            "\u001b[1m2213/2213\u001b[0m \u001b[32m━━━━━━━━━━━━━━━━━━━━\u001b[0m\u001b[37m\u001b[0m \u001b[1m5s\u001b[0m 2ms/step - accuracy: 0.9203 - loss: 0.2169\n",
            "\u001b[1m2213/2213\u001b[0m \u001b[32m━━━━━━━━━━━━━━━━━━━━\u001b[0m\u001b[37m\u001b[0m \u001b[1m5s\u001b[0m 2ms/step - accuracy: 0.9203 - loss: 0.2169\n",
            "Epoch 18/50\n",
            "Epoch 18/50\n",
            "\u001b[1m2213/2213\u001b[0m \u001b[32m━━━━━━━━━━━━━━━━━━━━\u001b[0m\u001b[37m\u001b[0m \u001b[1m6s\u001b[0m 2ms/step - accuracy: 0.9243 - loss: 0.2036\n",
            "\u001b[1m2213/2213\u001b[0m \u001b[32m━━━━━━━━━━━━━━━━━━━━\u001b[0m\u001b[37m\u001b[0m \u001b[1m6s\u001b[0m 2ms/step - accuracy: 0.9243 - loss: 0.2036\n",
            "Epoch 19/50\n",
            "Epoch 19/50\n",
            "\u001b[1m2213/2213\u001b[0m \u001b[32m━━━━━━━━━━━━━━━━━━━━\u001b[0m\u001b[37m\u001b[0m \u001b[1m4s\u001b[0m 2ms/step - accuracy: 0.9258 - loss: 0.2056\n",
            "\u001b[1m2213/2213\u001b[0m \u001b[32m━━━━━━━━━━━━━━━━━━━━\u001b[0m\u001b[37m\u001b[0m \u001b[1m4s\u001b[0m 2ms/step - accuracy: 0.9258 - loss: 0.2056\n",
            "Epoch 20/50\n",
            "Epoch 20/50\n",
            "\u001b[1m2213/2213\u001b[0m \u001b[32m━━━━━━━━━━━━━━━━━━━━\u001b[0m\u001b[37m\u001b[0m \u001b[1m4s\u001b[0m 2ms/step - accuracy: 0.9272 - loss: 0.1984\n",
            "\u001b[1m2213/2213\u001b[0m \u001b[32m━━━━━━━━━━━━━━━━━━━━\u001b[0m\u001b[37m\u001b[0m \u001b[1m4s\u001b[0m 2ms/step - accuracy: 0.9272 - loss: 0.1984\n",
            "Epoch 21/50\n",
            "Epoch 21/50\n",
            "\u001b[1m2213/2213\u001b[0m \u001b[32m━━━━━━━━━━━━━━━━━━━━\u001b[0m\u001b[37m\u001b[0m \u001b[1m6s\u001b[0m 2ms/step - accuracy: 0.9297 - loss: 0.1914\n",
            "\u001b[1m2213/2213\u001b[0m \u001b[32m━━━━━━━━━━━━━━━━━━━━\u001b[0m\u001b[37m\u001b[0m \u001b[1m6s\u001b[0m 2ms/step - accuracy: 0.9297 - loss: 0.1914\n",
            "Epoch 22/50\n",
            "Epoch 22/50\n",
            "\u001b[1m2213/2213\u001b[0m \u001b[32m━━━━━━━━━━━━━━━━━━━━\u001b[0m\u001b[37m\u001b[0m \u001b[1m5s\u001b[0m 2ms/step - accuracy: 0.9322 - loss: 0.1843\n",
            "\u001b[1m2213/2213\u001b[0m \u001b[32m━━━━━━━━━━━━━━━━━━━━\u001b[0m\u001b[37m\u001b[0m \u001b[1m5s\u001b[0m 2ms/step - accuracy: 0.9322 - loss: 0.1843\n",
            "Epoch 23/50\n",
            "Epoch 23/50\n",
            "\u001b[1m2213/2213\u001b[0m \u001b[32m━━━━━━━━━━━━━━━━━━━━\u001b[0m\u001b[37m\u001b[0m \u001b[1m6s\u001b[0m 2ms/step - accuracy: 0.9317 - loss: 0.1865\n",
            "\u001b[1m2213/2213\u001b[0m \u001b[32m━━━━━━━━━━━━━━━━━━━━\u001b[0m\u001b[37m\u001b[0m \u001b[1m6s\u001b[0m 2ms/step - accuracy: 0.9317 - loss: 0.1865\n",
            "Epoch 24/50\n",
            "Epoch 24/50\n",
            "\u001b[1m2213/2213\u001b[0m \u001b[32m━━━━━━━━━━━━━━━━━━━━\u001b[0m\u001b[37m\u001b[0m \u001b[1m4s\u001b[0m 2ms/step - accuracy: 0.9347 - loss: 0.1811\n",
            "\u001b[1m2213/2213\u001b[0m \u001b[32m━━━━━━━━━━━━━━━━━━━━\u001b[0m\u001b[37m\u001b[0m \u001b[1m4s\u001b[0m 2ms/step - accuracy: 0.9347 - loss: 0.1811\n",
            "Epoch 25/50\n",
            "Epoch 25/50\n",
            "\u001b[1m2213/2213\u001b[0m \u001b[32m━━━━━━━━━━━━━━━━━━━━\u001b[0m\u001b[37m\u001b[0m \u001b[1m4s\u001b[0m 2ms/step - accuracy: 0.9334 - loss: 0.1813\n",
            "\u001b[1m2213/2213\u001b[0m \u001b[32m━━━━━━━━━━━━━━━━━━━━\u001b[0m\u001b[37m\u001b[0m \u001b[1m4s\u001b[0m 2ms/step - accuracy: 0.9334 - loss: 0.1813\n",
            "Epoch 26/50\n",
            "Epoch 26/50\n",
            "\u001b[1m2213/2213\u001b[0m \u001b[32m━━━━━━━━━━━━━━━━━━━━\u001b[0m\u001b[37m\u001b[0m \u001b[1m6s\u001b[0m 2ms/step - accuracy: 0.9390 - loss: 0.1680\n",
            "\u001b[1m2213/2213\u001b[0m \u001b[32m━━━━━━━━━━━━━━━━━━━━\u001b[0m\u001b[37m\u001b[0m \u001b[1m6s\u001b[0m 2ms/step - accuracy: 0.9390 - loss: 0.1680\n",
            "Epoch 27/50\n",
            "Epoch 27/50\n",
            "\u001b[1m2213/2213\u001b[0m \u001b[32m━━━━━━━━━━━━━━━━━━━━\u001b[0m\u001b[37m\u001b[0m \u001b[1m4s\u001b[0m 2ms/step - accuracy: 0.9359 - loss: 0.1753\n",
            "\u001b[1m2213/2213\u001b[0m \u001b[32m━━━━━━━━━━━━━━━━━━━━\u001b[0m\u001b[37m\u001b[0m \u001b[1m4s\u001b[0m 2ms/step - accuracy: 0.9359 - loss: 0.1753\n",
            "Epoch 28/50\n",
            "Epoch 28/50\n",
            "\u001b[1m 709/2213\u001b[0m \u001b[32m━━━━━━\u001b[0m\u001b[37m━━━━━━━━━━━━━━\u001b[0m \u001b[1m2s\u001b[0m 2ms/step - accuracy: 0.9465 - loss: 0.1484"
          ]
        }
      ],
      "source": [
        "from tensorflow.keras.models import Sequential\n",
        "from tensorflow.keras.layers import Dense, Conv1D, MaxPooling1D, Flatten\n",
        "from tensorflow.keras.utils import to_categorical\n",
        "from sklearn.metrics import accuracy_score\n",
        "\n",
        "# Reshape data for CNN\n",
        "X_train_cnn = X_train.reshape(-1, X_train.shape[1], 1)\n",
        "X_test_cnn = X_test.reshape(-1, X_test.shape[1], 1)\n",
        "\n",
        "# One-hot encode target arrays\n",
        "y_train_onehot = to_categorical(y_train)\n",
        "y_test_onehot = to_categorical(y_test)\n",
        "\n",
        "# Define CNN model\n",
        "cnn_model = Sequential()\n",
        "cnn_model.add(Conv1D(64, kernel_size=3, activation='relu', input_shape=(X_train.shape[1], 1)))\n",
        "cnn_model.add(MaxPooling1D(pool_size=2))\n",
        "cnn_model.add(Flatten())\n",
        "cnn_model.add(Dense(128, activation='relu'))\n",
        "cnn_model.add(Dense(y_train_onehot.shape[1], activation='softmax'))\n",
        "\n",
        "# Compile and train CNN model\n",
        "cnn_model.compile(optimizer='adam', loss='categorical_crossentropy', metrics=['accuracy'])\n",
        "cnn_model.fit(X_train_cnn, y_train_onehot, epochs=50, batch_size=32)\n",
        "\n",
        "# Evaluate CNN model\n",
        "cnn_predictions = cnn_model.predict(X_test_cnn)\n",
        "cnn_accuracy = accuracy_score(y_test_onehot.argmax(-1), cnn_predictions.argmax(-1))\n",
        "print(\"CNN Accuracy:\", cnn_accuracy)"
      ]
    },
    {
      "cell_type": "code",
      "execution_count": null,
      "metadata": {
        "id": "_SbQnrLUfniI"
      },
      "outputs": [],
      "source": [
        "from sklearn.tree import DecisionTreeClassifier\n",
        "\n",
        "# Train Decision Tree model\n",
        "dt_model = DecisionTreeClassifier()\n",
        "dt_model.fit(X_train, y_train)\n",
        "\n",
        "# Evaluate Decision Tree model\n",
        "dt_predictions = dt_model.predict(X_test)\n",
        "dt_accuracy = accuracy_score(y_test, dt_predictions)\n",
        "print(\"Decision Tree Accuracy:\", dt_accuracy)"
      ]
    },
    {
      "cell_type": "code",
      "execution_count": null,
      "metadata": {
        "id": "xrun4iuzfqyb"
      },
      "outputs": [],
      "source": [
        "from sklearn.neighbors import KNeighborsClassifier\n",
        "\n",
        "# Train KNN model\n",
        "knn_model = KNeighborsClassifier(n_neighbors=5)\n",
        "knn_model.fit(X_train, y_train)\n",
        "\n",
        "# Evaluate KNN model\n",
        "knn_predictions = knn_model.predict(X_test)\n",
        "knn_accuracy = accuracy_score(y_test, knn_predictions)\n",
        "print(\"KNN Accuracy:\", knn_accuracy)"
      ]
    },
    {
      "cell_type": "code",
      "execution_count": null,
      "metadata": {
        "id": "vpVgshvlfs4S"
      },
      "outputs": [],
      "source": [
        "from tensorflow.keras.models import Model\n",
        "from tensorflow.keras.layers import Input, Conv1D, MaxPooling1D, GRU, LSTM, Attention, Dense\n",
        "\n",
        "def build_attention_deepconvgru(input_shape, num_classes):\n",
        "    inputs = Input(shape=input_shape)\n",
        "\n",
        "    # Convolutional Layers\n",
        "    x = Conv1D(64, kernel_size=3, activation='relu')(inputs)\n",
        "    x = MaxPooling1D(pool_size=2)(x)\n",
        "    x = Conv1D(128, kernel_size=3, activation='relu')(x)\n",
        "    x = MaxPooling1D(pool_size=2)(x)\n",
        "\n",
        "    # Recurrent Layers with Attention\n",
        "    x = Bidirectional(GRU(64, return_sequences=True))(x)\n",
        "    x = Attention()([x, x])\n",
        "    x = Bidirectional(GRU(64))(x)\n",
        "\n",
        "    # Fully Connected Layer\n",
        "    x = Dense(128, activation='relu')(x)\n",
        "    outputs = Dense(num_classes, activation='softmax')(x)\n",
        "\n",
        "    model = Model(inputs=inputs, outputs=outputs)\n",
        "    return model\n",
        "\n",
        "def build_attention_deepconvlstm(input_shape, num_classes):\n",
        "    inputs = Input(shape=input_shape)\n",
        "\n",
        "    # Convolutional Layers\n",
        "    x = Conv1D(64, kernel_size=3, activation='relu')(inputs)\n",
        "    x = MaxPooling1D(pool_size=2)(x)\n",
        "    x = Conv1D(128, kernel_size=3, activation='relu')(x)\n",
        "    x = MaxPooling1D(pool_size=2)(x)\n",
        "\n",
        "    # Recurrent Layers with Attention\n",
        "    x = Bidirectional(LSTM(64, return_sequences=True))(x)\n",
        "    x = Attention()([x, x])\n",
        "    x = Bidirectional(LSTM(64))(x)\n",
        "\n",
        "    # Fully Connected Layer\n",
        "    x = Dense(128, activation='relu')(x)\n",
        "    outputs = Dense(num_classes, activation='softmax')(x)\n",
        "\n",
        "    model = Model(inputs=inputs, outputs=outputs)\n",
        "    return model"
      ]
    },
    {
      "cell_type": "code",
      "execution_count": null,
      "metadata": {
        "id": "-FJku9UikXDG"
      },
      "outputs": [],
      "source": [
        "from tensorflow.keras.layers import Bidirectional, Attention\n",
        "input_shape = (X_train.shape[1], 1)\n",
        "num_classes = len(set(y_train))\n",
        "X_train = X_train.reshape(-1, X_train.shape[1], 1)\n",
        "X_test = X_test.reshape(-1, X_test.shape[1], 1)\n",
        "\n",
        "model1 = build_attention_deepconvgru(input_shape, num_classes)\n",
        "model1.compile(optimizer='adam', loss='categorical_crossentropy', metrics=['accuracy'])\n",
        "model1.fit(X_train, y_train_onehot, epochs=10, batch_size=32)\n",
        "\n",
        "model2 = build_attention_deepconvlstm(input_shape, num_classes)\n",
        "model2.compile(optimizer='adam', loss='categorical_crossentropy', metrics=['accuracy'])\n",
        "model2.fit(X_train, y_train_onehot, epochs=10, batch_size=32)"
      ]
    },
    {
      "cell_type": "code",
      "execution_count": null,
      "metadata": {
        "id": "3JT2C9DzkZz1"
      },
      "outputs": [],
      "source": [
        "# Evaluate the model on the test data\n",
        "loss, deepconvgru_accuracy = model1.evaluate(X_test, y_test_onehot)\n",
        "print(f'Test accuracy: {deepconvgru_accuracy:.3f}')"
      ]
    },
    {
      "cell_type": "code",
      "execution_count": null,
      "metadata": {
        "id": "gO3s_Xn4nuK7"
      },
      "outputs": [],
      "source": [
        "# Evaluate the model on the test data\n",
        "loss, deepconvlstm_accuracy = model2.evaluate(X_test, y_test_onehot)\n",
        "print(f'Test accuracy: {deepconvlstm_accuracy:.3f}')"
      ]
    },
    {
      "cell_type": "code",
      "execution_count": null,
      "metadata": {
        "id": "nmgccOYNpdUq"
      },
      "outputs": [],
      "source": [
        "import tensorflow as tf\n",
        "from tensorflow.keras.layers import Input, Conv1D, MaxPooling1D, LSTM, GRU, Dense, Attention, Concatenate\n",
        "from tensorflow.keras.models import Model\n",
        "\n",
        "def build_proposed_model(input_shape, num_classes):\n",
        "    inputs = Input(shape=input_shape)\n",
        "\n",
        "    # CNN Layers\n",
        "    x = Conv1D(64, kernel_size=3, activation='relu')(inputs)\n",
        "    x = MaxPooling1D(pool_size=2)(x)\n",
        "    x = Conv1D(128, kernel_size=3, activation='relu')(x)\n",
        "    x = MaxPooling1D(pool_size=2)(x)\n",
        "\n",
        "    # Attention Layer after CNN\n",
        "    attention_output = Attention()([x, x])  # Self-attention\n",
        "\n",
        "    # LSTM Layer\n",
        "    lstm_output = LSTM(64)(attention_output)\n",
        "\n",
        "    # GRU Layer\n",
        "    gru_output = GRU(64)(attention_output)\n",
        "\n",
        "    # Concatenate outputs from LSTM and GRU\n",
        "    combined_output = Concatenate()([lstm_output, gru_output])\n",
        "\n",
        "    # Classifier\n",
        "    x = Dense(128, activation='relu')(combined_output)\n",
        "    outputs = Dense(num_classes, activation='softmax')(x)\n",
        "\n",
        "    model = Model(inputs, outputs)\n",
        "    return model\n",
        "\n",
        "# Define input shape and number of classes\n",
        "input_shape = (X_train.shape[1], 1)\n",
        "num_classes = len(set(y_train))\n",
        "\n",
        "# Build the proposed model\n",
        "model = build_proposed_model(input_shape, num_classes)\n",
        "\n",
        "# Compile the model\n",
        "model.compile(optimizer='adam', loss='categorical_crossentropy', metrics=['accuracy'])\n",
        "\n",
        "# Train the model\n",
        "model.fit(X_train, y_train_onehot, epochs=50, batch_size=32)"
      ]
    },
    {
      "cell_type": "code",
      "execution_count": null,
      "metadata": {
        "id": "Iajz6Ya9qSVX"
      },
      "outputs": [],
      "source": [
        "# Evaluate the model\n",
        "loss, proposed_accuracy = model.evaluate(X_test, y_test_onehot)\n",
        "print(f'Test accuracy: {proposed_accuracy:.2f}%')"
      ]
    },
    {
      "cell_type": "code",
      "execution_count": null,
      "metadata": {
        "id": "HwidrX7tvZJo"
      },
      "outputs": [],
      "source": [
        "y_test = np.argmax(y_test_onehot, axis=1)\n",
        "f1 = f1_score(y_test, y_pred, average='macro')\n",
        "y_pred = model.predict(X_test)\n",
        "y_pred = np.argmax(y_pred, axis=1)\n",
        "\n",
        "y_test = np.argmax(y_test_onehot, axis=1)  # Convert one-hot encoded to integer labels\n",
        "\n",
        "f1 = f1_score(y_test, y_pred, average='macro')"
      ]
    },
    {
      "cell_type": "code",
      "execution_count": null,
      "metadata": {
        "id": "AdDIzhCVwio-"
      },
      "outputs": [],
      "source": [
        "f1"
      ]
    },
    {
      "cell_type": "code",
      "execution_count": null,
      "metadata": {
        "id": "zggE4b7Lx8VJ"
      },
      "outputs": [],
      "source": [
        "import pandas as pd\n",
        "\n",
        "# Model names and their corresponding accuracies\n",
        "model_names = [\n",
        "    \"Decision Tree\",\n",
        "    \"Random Forest\",\n",
        "    \"KNN\",\n",
        "    \"MLP\",\n",
        "    \"Gradient Boosting\",\n",
        "    \"Linear SVC\",\n",
        "    \"Logistic Regression\",\n",
        "    \"AdaBoost\",\n",
        "    \"Naive Bayes\",\n",
        "    \"CNN\",\n",
        "    \"Attention DeepConvGRU\",\n",
        "    \"Attention DeepConvLSTM\",\n",
        "    \"Proposed Model\"\n",
        "]\n",
        "\n",
        "accuracies = [\n",
        "    dt_accuracy,\n",
        "    rf_accuracy,\n",
        "    knn_accuracy,\n",
        "    mlp_accuracy,\n",
        "    gb_accuracy,\n",
        "    svc_accuracy,\n",
        "    lr_accuracy,\n",
        "    adb_accuracy,\n",
        "    nb_accuracy,\n",
        "    cnn_accuracy,\n",
        "    deepconvgru_accuracy,\n",
        "    deepconvlstm_accuracy,\n",
        "    proposed_accuracy\n",
        "]\n",
        "\n",
        "# Create a DataFrame\n",
        "accuracy_df = pd.DataFrame({\"Model\": model_names, \"Accuracy\": accuracies})\n",
        "\n",
        "# Display the table\n",
        "print(accuracy_df)\n",
        "\n",
        "# Optionally, save the table to a CSV file\n",
        "accuracy_df.to_csv(\"model_accuracies.csv\", index=False)"
      ]
    },
    {
      "cell_type": "code",
      "execution_count": null,
      "metadata": {
        "id": "qeSZYgJ00naX"
      },
      "outputs": [],
      "source": [
        "import matplotlib.pyplot as plt\n",
        "import seaborn as sns\n",
        "\n",
        "# Create the bar plot\n",
        "plt.figure(figsize=(10, 6))\n",
        "sns.barplot(x='Accuracy', y='Model', data=accuracy_df.sort_values(by=\"Accuracy\", ascending=False))\n",
        "plt.title(\"Model Accuracy Comparison\")\n",
        "plt.xlabel(\"Accuracy\")\n",
        "plt.ylabel(\"Model\")\n",
        "plt.show()"
      ]
    },
    {
      "cell_type": "code",
      "execution_count": null,
      "metadata": {
        "id": "GFavA4cD8PCv"
      },
      "outputs": [],
      "source": [
        "import matplotlib.pyplot as plt\n",
        "import seaborn as sns\n",
        "\n",
        "# Create the bar plot\n",
        "plt.figure(figsize=(10, 6))\n",
        "sns.barplot(x='Accuracy', y='Model', data=accuracy_df.sort_values(by=\"Accuracy\", ascending=False))\n",
        "plt.title(\"Model Accuracy Comparison\")\n",
        "plt.xlabel(\"Accuracy\")\n",
        "plt.ylabel(\"Model\")\n",
        "plt.show()"
      ]
    },
    {
      "cell_type": "code",
      "execution_count": null,
      "metadata": {
        "id": "cAqyjX5h8RGX"
      },
      "outputs": [],
      "source": [
        "from sklearn.metrics import confusion_matrix\n",
        "import seaborn as sns\n",
        "import matplotlib.pyplot as plt\n",
        "\n",
        "# Assuming y_test and y_pred are available\n",
        "conf_matrix = confusion_matrix(y_test, y_pred)\n",
        "\n",
        "# Plot the confusion matrix\n",
        "plt.figure(figsize=(8, 6))\n",
        "sns.heatmap(conf_matrix, annot=True, fmt=\"d\", cmap=\"Blues\")\n",
        "plt.title(\"Confusion Matrix\")\n",
        "plt.xlabel(\"Predicted Label\")\n",
        "plt.ylabel(\"True Label\")\n",
        "plt.show()"
      ]
    },
    {
      "cell_type": "code",
      "execution_count": null,
      "metadata": {
        "id": "kbUwSbBm8UFX"
      },
      "outputs": [],
      "source": [
        "from sklearn.metrics import roc_curve, auc\n",
        "import matplotlib.pyplot as plt\n",
        "\n",
        "# Compute ROC curve and ROC area for each model\n",
        "fpr, tpr, _ = roc_curve(y_test, y_pred_proba)\n",
        "roc_auc = auc(fpr, tpr)\n",
        "\n",
        "plt.figure()\n",
        "plt.plot(fpr, tpr, color='darkorange', lw=2, label='ROC curve (area = %0.2f)' % roc_auc)\n",
        "plt.plot([0, 1], [0, 1], color='navy', lw=2, linestyle='--')\n",
        "plt.xlim([0.0, 1.0])\n",
        "plt.ylim([0.0, 1.05])\n",
        "plt.xlabel('False Positive Rate')\n",
        "plt.ylabel('True Positive Rate')\n",
        "plt.title('Receiver Operating Characteristic')\n",
        "plt.legend(loc=\"lower right\")\n",
        "plt.show()"
      ]
    },
    {
      "cell_type": "code",
      "execution_count": null,
      "metadata": {
        "id": "DodAlsuw8WOL"
      },
      "outputs": [],
      "source": [
        "f1_scores = [\n",
        "    dt_f1,\n",
        "    rf_f1,\n",
        "    knn_f1,\n",
        "    mlp_f1,\n",
        "    gb_f1,\n",
        "    svc_f1,\n",
        "    lr_f1,\n",
        "    ada_f1,\n",
        "    nb_f1,\n",
        "    cnn_f1,\n",
        "    attention_gru_f1,\n",
        "    attention_lstm_f1,\n",
        "    proposed_f1\n",
        "]\n",
        "\n",
        "# Create a DataFrame\n",
        "f1_df = pd.DataFrame({\"Model\": model_names, \"F1 Score\": f1_scores})\n",
        "\n",
        "# Create the bar plot for F1 scores\n",
        "plt.figure(figsize=(10, 6))\n",
        "sns.barplot(x='F1 Score', y='Model', data=f1_df.sort_values(by=\"F1 Score\", ascending=False))\n",
        "plt.title(\"Model F1 Score Comparison\")\n",
        "plt.xlabel(\"F1 Score\")\n",
        "plt.ylabel(\"Model\")\n",
        "plt.show()\n"
      ]
    },
    {
      "cell_type": "code",
      "execution_count": null,
      "metadata": {
        "id": "5Bo2jLa58Y7o"
      },
      "outputs": [],
      "source": [
        "# Assuming history is the output from model.fit()\n",
        "plt.figure(figsize=(12, 5))\n",
        "\n",
        "# Plot loss\n",
        "plt.subplot(1, 2, 1)\n",
        "plt.plot(history.history['loss'], label='Training Loss')\n",
        "plt.plot(history.history['val_loss'], label='Validation Loss')\n",
        "plt.title('Model Loss')\n",
        "plt.xlabel('Epochs')\n",
        "plt.ylabel('Loss')\n",
        "plt.legend()\n",
        "\n",
        "# Plot accuracy\n",
        "plt.subplot(1, 2, 2)\n",
        "plt.plot(history.history['accuracy'], label='Training Accuracy')\n",
        "plt.plot(history.history['val_accuracy'], label='Validation Accuracy')\n",
        "plt.title('Model Accuracy')\n",
        "plt.xlabel('Epochs')\n",
        "plt.ylabel('Accuracy')\n",
        "plt.legend()\n",
        "\n",
        "plt.show()\n"
      ]
    },
    {
      "cell_type": "code",
      "execution_count": null,
      "metadata": {
        "id": "uGWHJrTG8bWB"
      },
      "outputs": [],
      "source": [
        "# Save the accuracy plot\n",
        "plt.savefig(\"model_accuracy_comparison.png\")\n",
        "\n",
        "# Save the confusion matrix plot\n",
        "plt.savefig(\"confusion_matrix.png\")\n",
        "\n",
        "# Save the ROC curve plot\n",
        "plt.savefig(\"roc_curve.png\")\n",
        "\n",
        "# Save the F1 score plot\n",
        "plt.savefig(\"f1_score_comparison.png\")"
      ]
    },
    {
      "cell_type": "code",
      "execution_count": null,
      "metadata": {
        "id": "Bmx2pQkV8dYW"
      },
      "outputs": [],
      "source": []
    }
  ],
  "metadata": {
    "accelerator": "GPU",
    "colab": {
      "gpuType": "T4",
      "provenance": [],
      "authorship_tag": "ABX9TyN3hrqJCH7msz2yVxd7KxkG",
      "include_colab_link": true
    },
    "kernelspec": {
      "display_name": "Python 3",
      "name": "python3"
    },
    "language_info": {
      "name": "python"
    }
  },
  "nbformat": 4,
  "nbformat_minor": 0
}